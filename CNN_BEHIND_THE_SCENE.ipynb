{
  "nbformat": 4,
  "nbformat_minor": 0,
  "metadata": {
    "colab": {
      "provenance": []
    },
    "kernelspec": {
      "name": "python3",
      "display_name": "Python 3"
    },
    "language_info": {
      "name": "python"
    }
  },
  "cells": [
    {
      "cell_type": "markdown",
      "source": [
        "#CNN - CONVOLUTIONAL NEURAL NETWORK\n",
        "###IP(IMAGE) --> (Conv2D+Relu)* --> Pooling --> FC -->OP"
      ],
      "metadata": {
        "id": "irH6bX1ZF6f5"
      }
    },
    {
      "cell_type": "markdown",
      "source": [
        "##IMAGE TO PIXEL"
      ],
      "metadata": {
        "id": "mED9H8T5G3oC"
      }
    },
    {
      "cell_type": "code",
      "execution_count": null,
      "metadata": {
        "colab": {
          "base_uri": "https://localhost:8080/"
        },
        "id": "raVQXM1xE6jJ",
        "outputId": "47b9546b-36f1-47aa-d2a7-d34c7821bde8"
      },
      "outputs": [
        {
          "output_type": "stream",
          "name": "stdout",
          "text": [
            "[[255 255 255 ... 255 255 255]\n",
            " [255 255 255 ... 255 255 255]\n",
            " [255 255 255 ... 255 255 255]\n",
            " ...\n",
            " [255 255 255 ... 255 255 255]\n",
            " [255 255 255 ... 255 255 255]\n",
            " [255 255 255 ... 255 255 255]]\n",
            "Width: 251, Height: 201\n"
          ]
        }
      ],
      "source": [
        "from PIL import Image\n",
        "import numpy as np\n",
        "\n",
        "\n",
        "image = Image.open(\"/content/download.png\")\n",
        "\n",
        "image = image.convert(\"L\") #L-GRAYSCALE(1 CHANNEL) AND \"RGB\" - 3 CHANNEL\n",
        "\n",
        "pixel_values = np.array(image)\n",
        "\n",
        "print(pixel_values)\n",
        "\n",
        "width, height = image.size\n",
        "print(f\"Width: {width}, Height: {height}\")\n"
      ]
    },
    {
      "cell_type": "code",
      "source": [
        "image"
      ],
      "metadata": {
        "colab": {
          "base_uri": "https://localhost:8080/",
          "height": 242
        },
        "id": "8w2cYyXRzKbf",
        "outputId": "af3f1201-58e6-4543-ddfe-d5f228797a79"
      },
      "execution_count": null,
      "outputs": [
        {
          "output_type": "execute_result",
          "data": {
            "text/plain": [
              "array([[255, 255, 255, ..., 255, 255, 255],\n",
              "       [255, 255, 255, ..., 255, 255, 255],\n",
              "       [255, 255, 255, ..., 255, 255, 255],\n",
              "       ...,\n",
              "       [255, 255, 255, ..., 255, 255, 255],\n",
              "       [255, 255, 255, ..., 255, 255, 255],\n",
              "       [255, 255, 255, ..., 255, 255, 255]], dtype=uint8)"
            ],
            "text/html": [
              "<style>\n",
              "      .ndarray_repr .ndarray_raw_data {\n",
              "        display: none;\n",
              "      }\n",
              "      .ndarray_repr.show_array .ndarray_raw_data {\n",
              "        display: block;\n",
              "      }\n",
              "      .ndarray_repr.show_array .ndarray_image_preview {\n",
              "        display: none;\n",
              "      }\n",
              "      </style>\n",
              "      <div id=\"id-c0790717-b811-4206-b143-e42ccf3264ff\" class=\"ndarray_repr\"><pre>ndarray (201, 251) <button style=\"padding: 0 2px;\">show data</button></pre><img src=\"data:image/png;base64,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\" class=\"ndarray_image_preview\" /><pre class=\"ndarray_raw_data\">array([[255, 255, 255, ..., 255, 255, 255],\n",
              "       [255, 255, 255, ..., 255, 255, 255],\n",
              "       [255, 255, 255, ..., 255, 255, 255],\n",
              "       ...,\n",
              "       [255, 255, 255, ..., 255, 255, 255],\n",
              "       [255, 255, 255, ..., 255, 255, 255],\n",
              "       [255, 255, 255, ..., 255, 255, 255]], dtype=uint8)</pre></div><script>\n",
              "      (() => {\n",
              "      const titles = ['show data', 'hide data'];\n",
              "      let index = 0\n",
              "      document.querySelector('#id-c0790717-b811-4206-b143-e42ccf3264ff button').onclick = (e) => {\n",
              "        document.querySelector('#id-c0790717-b811-4206-b143-e42ccf3264ff').classList.toggle('show_array');\n",
              "        index = (++index) % 2;\n",
              "        document.querySelector('#id-c0790717-b811-4206-b143-e42ccf3264ff button').textContent = titles[index];\n",
              "        e.preventDefault();\n",
              "        e.stopPropagation();\n",
              "      }\n",
              "      })();\n",
              "    </script>"
            ]
          },
          "metadata": {},
          "execution_count": 27
        }
      ]
    },
    {
      "cell_type": "markdown",
      "source": [
        "##IMAGE * KERNEL"
      ],
      "metadata": {
        "id": "lLhaCzHLaj_h"
      }
    },
    {
      "cell_type": "markdown",
      "source": [
        "WITH PADDING"
      ],
      "metadata": {
        "id": "1bR_V19Tbox1"
      }
    },
    {
      "cell_type": "code",
      "source": [
        "import numpy as np\n",
        "from PIL import Image\n",
        "\n",
        "\n",
        "image = np.array(image)\n",
        "\n",
        "kernel = np.array([\n",
        "    [1, 0, -1],\n",
        "    [1, 0, -1],\n",
        "    [1, 0, -1]\n",
        "])\n",
        "\n",
        "stride = 1\n",
        "padding = 1\n",
        "\n",
        "def conv2d(image, kernel, stride, padding):\n",
        "    img_h, img_w = image.shape\n",
        "    kernel_h, kernel_w = kernel.shape\n",
        "\n",
        "    out_h = (img_h - kernel_h + 2 * padding) // stride + 1\n",
        "    out_w = (img_w - kernel_w + 2 * padding) // stride + 1\n",
        "\n",
        "    if padding > 0:\n",
        "        image = np.pad(image, ((padding, padding), (padding, padding)), mode='constant', constant_values=0)\n",
        "\n",
        "\n",
        "    output = np.zeros((out_h, out_w))\n",
        "\n",
        "    for i in range(0, out_h):\n",
        "        for j in range(0, out_w):\n",
        "            region = image[i * stride:i * stride + kernel_h, j * stride:j * stride + kernel_w]\n",
        "            output[i, j] = np.sum(region * kernel)\n",
        "\n",
        "    assert output.shape == (out_h, out_w), (\n",
        "        f\"Output shape mismatch: Expected ({out_h}, {out_w}), got {output.shape}\"\n",
        "    )\n",
        "    print(f\"Expected Output Dimensions: ({out_h}, {out_w})\")\n",
        "    print(f\"Actual Output Dimensions: {output.shape}\")\n",
        "\n",
        "    return image.shape, kernel.shape, (out_h, out_w), output.shape,output\n",
        "\n",
        "input_dim, kernel_dim, expected_dim, actual_dim,output  = conv2d(image, kernel, stride, padding)\n",
        "\n",
        "print(\"Input Image (as Pixel Values):\\n\", image)\n",
        "print(\"\\nKernel:\\n\", kernel)\n",
        "print(\"Output Image (as Pixel Values):\\n\", output)\n",
        "\n",
        "print(f\"Input Dimensions: {image.shape}\")\n",
        "print(f\"Kernel Dimensions: {kernel.shape}\")\n",
        "print(f\"Expected Output Dimensions:\",expected_dim)\n",
        "print(f\"Actual Output Dimensions: {actual_dim}\")"
      ],
      "metadata": {
        "colab": {
          "base_uri": "https://localhost:8080/"
        },
        "id": "TvRKw4l9bn6w",
        "outputId": "4a57ff0e-e0c9-40e7-cd27-d7463e4acb1c"
      },
      "execution_count": null,
      "outputs": [
        {
          "output_type": "stream",
          "name": "stdout",
          "text": [
            "Expected Output Dimensions: (201, 251)\n",
            "Actual Output Dimensions: (201, 251)\n",
            "Input Image (as Pixel Values):\n",
            " [[255 255 255 ... 255 255 255]\n",
            " [255 255 255 ... 255 255 255]\n",
            " [255 255 255 ... 255 255 255]\n",
            " ...\n",
            " [255 255 255 ... 255 255 255]\n",
            " [255 255 255 ... 255 255 255]\n",
            " [255 255 255 ... 255 255 255]]\n",
            "\n",
            "Kernel:\n",
            " [[ 1  0 -1]\n",
            " [ 1  0 -1]\n",
            " [ 1  0 -1]]\n",
            "Output Image (as Pixel Values):\n",
            " [[-510.    0.    0. ...    0.    0.  510.]\n",
            " [-765.    0.    0. ...    0.    0.  765.]\n",
            " [-765.    0.    0. ...    0.    0.  765.]\n",
            " ...\n",
            " [-765.    0.    0. ...    0.    0.  765.]\n",
            " [-765.    0.    0. ...    0.    0.  765.]\n",
            " [-510.    0.    0. ...    0.    0.  510.]]\n",
            "Input Dimensions: (201, 251)\n",
            "Kernel Dimensions: (3, 3)\n",
            "Expected Output Dimensions: (201, 251)\n",
            "Actual Output Dimensions: (201, 251)\n"
          ]
        }
      ]
    },
    {
      "cell_type": "markdown",
      "source": [
        "WITHOUT PADDING"
      ],
      "metadata": {
        "id": "iOOmd4Npbkdk"
      }
    },
    {
      "cell_type": "code",
      "source": [
        "import numpy as np\n",
        "from PIL import Image\n",
        "\n",
        "\n",
        "image = np.array(image)\n",
        "\n",
        "\n",
        "kernel = np.array([\n",
        "    [1, 0, -1],\n",
        "    [1, 0, -1],\n",
        "    [1, 0, -1]\n",
        "])\n",
        "\n",
        "stride = 1\n",
        "padding = 0\n",
        "\n",
        "def conv2d(image, kernel, stride, padding):\n",
        "    img_h, img_w = image.shape\n",
        "    kernel_h, kernel_w = kernel.shape\n",
        "\n",
        "\n",
        "    out_h = (img_h - kernel_h + 2 * padding) // stride + 1\n",
        "    out_w = (img_w - kernel_w + 2 * padding) // stride + 1\n",
        "\n",
        "    if padding > 0:\n",
        "        image = np.pad(image, ((padding, padding), (padding, padding)), mode='constant', constant_values=0)\n",
        "\n",
        "    output = np.zeros((out_h, out_w))\n",
        "\n",
        "    for i in range(0, out_h):\n",
        "        for j in range(0, out_w):\n",
        "            region = image[i * stride:i * stride + kernel_h, j * stride:j * stride + kernel_w]\n",
        "            output[i, j] = np.sum(region * kernel)\n",
        "\n",
        "    assert output.shape == (out_h, out_w), (\n",
        "        f\"Output shape mismatch: Expected ({out_h}, {out_w}), got {output.shape}\"\n",
        "    )\n",
        "    print(f\"Expected Output Dimensions: ({out_h}, {out_w})\")\n",
        "    print(f\"Actual Output Dimensions: {output.shape}\")\n",
        "\n",
        "    return image.shape, kernel.shape, (out_h, out_w), output.shape,output\n",
        "\n",
        "input_dim, kernel_dim, expected_dim, actual_dim,output  = conv2d(image, kernel, stride, padding)\n",
        "\n",
        "\n",
        "print(\"Input Image (as Pixel Values):\\n\", image)\n",
        "print(\"\\nKernel:\\n\", kernel)\n",
        "print(\"Output Image (as Pixel Values):\\n\", output)\n",
        "\n",
        "print(f\"Input Dimensions: {image.shape}\")\n",
        "print(f\"Kernel Dimensions: {kernel.shape}\")\n",
        "print(f\"Expected Output Dimensions:\",expected_dim)\n",
        "print(f\"Actual Output Dimensions: {actual_dim}\")"
      ],
      "metadata": {
        "colab": {
          "base_uri": "https://localhost:8080/"
        },
        "id": "a0Wwc29lILVd",
        "outputId": "2e5cd4e8-89c8-4bdf-a698-e28a4d0fe81c"
      },
      "execution_count": null,
      "outputs": [
        {
          "output_type": "stream",
          "name": "stdout",
          "text": [
            "Expected Output Dimensions: (199, 249)\n",
            "Actual Output Dimensions: (199, 249)\n",
            "Input Image (as Pixel Values):\n",
            " [[255 255 255 ... 255 255 255]\n",
            " [255 255 255 ... 255 255 255]\n",
            " [255 255 255 ... 255 255 255]\n",
            " ...\n",
            " [255 255 255 ... 255 255 255]\n",
            " [255 255 255 ... 255 255 255]\n",
            " [255 255 255 ... 255 255 255]]\n",
            "\n",
            "Kernel:\n",
            " [[ 1  0 -1]\n",
            " [ 1  0 -1]\n",
            " [ 1  0 -1]]\n",
            "Output Image (as Pixel Values):\n",
            " [[0. 0. 0. ... 0. 0. 0.]\n",
            " [0. 0. 0. ... 0. 0. 0.]\n",
            " [0. 0. 0. ... 0. 0. 0.]\n",
            " ...\n",
            " [0. 0. 0. ... 0. 0. 0.]\n",
            " [0. 0. 0. ... 0. 0. 0.]\n",
            " [0. 0. 0. ... 0. 0. 0.]]\n",
            "Input Dimensions: (201, 251)\n",
            "Kernel Dimensions: (3, 3)\n",
            "Expected Output Dimensions: (199, 249)\n",
            "Actual Output Dimensions: (199, 249)\n"
          ]
        }
      ]
    },
    {
      "cell_type": "markdown",
      "source": [
        "##NORMALIZATION"
      ],
      "metadata": {
        "id": "JJmUnEeQbY5b"
      }
    },
    {
      "cell_type": "code",
      "source": [
        "def batch_normalization(output, epsilon=1e-5):\n",
        "\n",
        "    batch_mean = np.mean(output)\n",
        "    batch_var = np.var(output)\n",
        "\n",
        "    output_normalized = (output - batch_mean) / np.sqrt(batch_var + epsilon)\n",
        "\n",
        "    gamma = np.ones_like(output_normalized)  # Initialize gamma to 1\n",
        "    beta = np.zeros_like(output_normalized)  # Initialize beta to 0\n",
        "\n",
        "    output_bn = gamma * output_normalized + beta\n",
        "\n",
        "    return output_bn\n",
        "\n",
        "\n",
        "output_bn = batch_normalization(output)\n",
        "\n",
        "print(\"Batch Normalized Output:\")\n",
        "print(output_bn)"
      ],
      "metadata": {
        "colab": {
          "base_uri": "https://localhost:8080/"
        },
        "id": "ZazOSaYFKVgu",
        "outputId": "d1e1f519-ea1b-4155-bafc-c93ac8e51da2"
      },
      "execution_count": null,
      "outputs": [
        {
          "output_type": "stream",
          "name": "stdout",
          "text": [
            "Batch Normalized Output:\n",
            "[[0. 0. 0. ... 0. 0. 0.]\n",
            " [0. 0. 0. ... 0. 0. 0.]\n",
            " [0. 0. 0. ... 0. 0. 0.]\n",
            " ...\n",
            " [0. 0. 0. ... 0. 0. 0.]\n",
            " [0. 0. 0. ... 0. 0. 0.]\n",
            " [0. 0. 0. ... 0. 0. 0.]]\n"
          ]
        }
      ]
    },
    {
      "cell_type": "markdown",
      "source": [
        "##POOLING\n"
      ],
      "metadata": {
        "id": "ydUj321DcQ9T"
      }
    },
    {
      "cell_type": "markdown",
      "source": [
        "MAX POOLING"
      ],
      "metadata": {
        "id": "FwmTsfLScTrD"
      }
    },
    {
      "cell_type": "code",
      "source": [
        "import numpy as np\n",
        "\n",
        "def max_pooling(output, pool_size=2, stride=2):\n",
        "    h, w = output.shape\n",
        "\n",
        "    out_h = (h - pool_size) // stride + 1\n",
        "    out_w = (w - pool_size) // stride + 1\n",
        "\n",
        "    pooled_output = np.zeros((out_h, out_w))\n",
        "\n",
        "    for i in range(0, out_h):\n",
        "        for j in range(0, out_w):\n",
        "            region = output[i * stride:i * stride + pool_size, j * stride:j * stride + pool_size]\n",
        "            pooled_output[i, j] = np.max(region)\n",
        "\n",
        "    return pooled_output\n",
        "\n",
        "pooled_output = max_pooling(output_bn)\n",
        "\n",
        "print(\"Max Pooled Output:\")\n",
        "print(pooled_output)\n",
        "print(pooled_output.shape)"
      ],
      "metadata": {
        "colab": {
          "base_uri": "https://localhost:8080/"
        },
        "id": "7gFdkl6_a9Pb",
        "outputId": "9e8c6804-a9ce-4300-91cf-e71e41c998a3"
      },
      "execution_count": null,
      "outputs": [
        {
          "output_type": "stream",
          "name": "stdout",
          "text": [
            "Max Pooled Output:\n",
            "[[0. 0. 0. ... 0. 0. 0.]\n",
            " [0. 0. 0. ... 0. 0. 0.]\n",
            " [0. 0. 0. ... 0. 0. 0.]\n",
            " ...\n",
            " [0. 0. 0. ... 0. 0. 0.]\n",
            " [0. 0. 0. ... 0. 0. 0.]\n",
            " [0. 0. 0. ... 0. 0. 0.]]\n",
            "(99, 124)\n"
          ]
        }
      ]
    },
    {
      "cell_type": "code",
      "source": [
        "P = 2  # Pooling window size\n",
        "S = 2  # Stride\n",
        "\n",
        "def max_pooling(input_matrix, P, S):\n",
        "    H, W = input_matrix.shape\n",
        "    H_out = (H - P) // S + 1\n",
        "    W_out = (W - P) // S + 1\n",
        "\n",
        "    output_matrix = np.zeros((H_out, W_out))\n",
        "\n",
        "    for i in range(H_out):\n",
        "        for j in range(W_out):\n",
        "            region = input_matrix[i*S:i*S+P, j*S:j*S+P]\n",
        "\n",
        "            output_matrix[i, j] = np.max(region)\n",
        "\n",
        "    return output_matrix\n",
        "\n",
        "\n",
        "def average_pooling(input_matrix, P, S):\n",
        "    H, W = input_matrix.shape\n",
        "\n",
        "    H_out = (H - P) // S + 1\n",
        "    W_out = (W - P) // S + 1\n",
        "\n",
        "\n",
        "    output_matrix = np.zeros((H_out, W_out))\n",
        "\n",
        "\n",
        "    for i in range(H_out):\n",
        "        for j in range(W_out):\n",
        "\n",
        "            region = input_matrix[i*S:i*S+P, j*S:j*S+P]\n",
        "\n",
        "            output_matrix[i, j] = np.mean(region)\n",
        "\n",
        "    return output_matrix\n",
        "\n",
        "\n",
        "max_pooling_output = max_pooling(output_bn, P, S)\n",
        "\n",
        "\n",
        "average_pooling_output = average_pooling(output_bn, P, S)\n",
        "\n",
        "\n",
        "print(\"\\nMax Pooling Output:\")\n",
        "print(max_pooling_output)\n",
        "\n",
        "print(\"\\nAverage Pooling Output:\")\n",
        "print(average_pooling_output)\n",
        "\n"
      ],
      "metadata": {
        "colab": {
          "base_uri": "https://localhost:8080/"
        },
        "id": "Xj0x3enguv2K",
        "outputId": "76c6ac5d-fa5f-48a3-ea9f-a1e3df392c04"
      },
      "execution_count": null,
      "outputs": [
        {
          "output_type": "stream",
          "name": "stdout",
          "text": [
            "\n",
            "Max Pooling Output:\n",
            "[[0. 0. 0. ... 0. 0. 0.]\n",
            " [0. 0. 0. ... 0. 0. 0.]\n",
            " [0. 0. 0. ... 0. 0. 0.]\n",
            " ...\n",
            " [0. 0. 0. ... 0. 0. 0.]\n",
            " [0. 0. 0. ... 0. 0. 0.]\n",
            " [0. 0. 0. ... 0. 0. 0.]]\n",
            "\n",
            "Average Pooling Output:\n",
            "[[0. 0. 0. ... 0. 0. 0.]\n",
            " [0. 0. 0. ... 0. 0. 0.]\n",
            " [0. 0. 0. ... 0. 0. 0.]\n",
            " ...\n",
            " [0. 0. 0. ... 0. 0. 0.]\n",
            " [0. 0. 0. ... 0. 0. 0.]\n",
            " [0. 0. 0. ... 0. 0. 0.]]\n"
          ]
        }
      ]
    },
    {
      "cell_type": "code",
      "source": [
        "max_pooling_output = max_pooling_output.astype(np.uint8)\n",
        "im = Image.fromarray(max_pooling_output)\n"
      ],
      "metadata": {
        "id": "TsiNC67LvD-k"
      },
      "execution_count": null,
      "outputs": []
    },
    {
      "cell_type": "code",
      "source": [
        "im"
      ],
      "metadata": {
        "colab": {
          "base_uri": "https://localhost:8080/",
          "height": 116
        },
        "id": "EtMpbKMHwSml",
        "outputId": "5e6e4e25-e735-4ff7-d9bd-01aff98744fb"
      },
      "execution_count": null,
      "outputs": [
        {
          "output_type": "execute_result",
          "data": {
            "text/plain": [
              "<PIL.Image.Image image mode=L size=124x99>"
            ],
            "image/png": "[encoded data removed]",
            "image/jpeg": "[encoded data removed]"
          },
          "metadata": {},
          "execution_count": 26
        }
      ]
    },
    {
      "cell_type": "code",
      "source": [
        "average_pooling_output = average_pooling_output.astype(np.uint8)\n",
        "ima = Image.fromarray(average_pooling_output)"
      ],
      "metadata": {
        "id": "BVZaqcuqv2CQ"
      },
      "execution_count": null,
      "outputs": []
    },
    {
      "cell_type": "code",
      "source": [
        "ima"
      ],
      "metadata": {
        "colab": {
          "base_uri": "https://localhost:8080/",
          "height": 116
        },
        "id": "tTpgK60MwLJG",
        "outputId": "0d7e0cf4-1e3e-4030-e0d2-79c66f15216a"
      },
      "execution_count": null,
      "outputs": [
        {
          "output_type": "execute_result",
          "data": {
            "text/plain": [
              "<PIL.Image.Image image mode=L size=124x99>"
            ],
            "image/png": "[encoded data removed]",
            "image/jpeg": "[encoded data removed]"
          },
          "metadata": {},
          "execution_count": 23
        }
      ]
    }
  ]
}